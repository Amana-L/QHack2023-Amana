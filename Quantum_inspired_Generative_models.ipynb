{
  "nbformat": 4,
  "nbformat_minor": 0,
  "metadata": {
    "colab": {
      "provenance": []
    },
    "kernelspec": {
      "name": "python3",
      "display_name": "Python 3"
    },
    "language_info": {
      "name": "python"
    }
  },
  "cells": [
    {
      "cell_type": "markdown",
      "source": [
        "# **Quantum-inspired Generative models**"
      ],
      "metadata": {
        "id": "-jPAT2Nox1S4"
      }
    },
    {
      "cell_type": "markdown",
      "source": [
        "With the recent rise in interest in generative models in the classical machine learning domain, there have also been advancements along the lines of using generative models with quantum computing. This interest has varied from using quantum Generative Adversarial Networks (qGANs) to efficiently load data onto a quantum computer [3] to applications in finance [4].  \n",
        "\n",
        "The objective of this project is to explore the prospects of generative models in the quantum computing paradigm. The paper [1] leverages constrained optimisation problems to define metrics to gauge the models generalization capabilities. The objective function in these problems being similar to the use-case of modern portfolio theory given in [2], is used to demonstrate this advantage. The paper also suggests that quantum-inspired generative models can offer upto a 68× enhancement in the generation of synthetic data compared to classical Generative Adversarial Networks (GANs). "
      ],
      "metadata": {
        "id": "1j12hHuaPQfn"
      }
    },
    {
      "cell_type": "markdown",
      "source": [
        "\n",
        "\n",
        "---\n",
        "\n"
      ],
      "metadata": {
        "id": "0jN8yxOzx0Do"
      }
    },
    {
      "cell_type": "markdown",
      "source": [
        "# What are Quantum Generative Adversarial Networks (qGANs)?\n",
        "\n",
        "The loading of data into quantum states is an obstacle to implementing algorithms on NISQ-era devices because it adds to the computational complexity of the overall algorithm. And in doing so, impairs the quantum advantage that is hoped for in the computation. Quantum generative adversarial networks [3] were proposed to provide some relief to the complexity overhead. \n",
        "\n",
        "This efficient and approximate quantum state loading is done by the algorithm learning the implicit probability distribution underlying the data samples, and then loading this probability distribution into quantum states using a variational circuit. This brings the complexity of loading data from $O(2^n)$ to $O(poly(n))$.\n",
        "\n",
        "Classical Generative Adversarial Networks (GANs) consist of two parts - the *generator* and the *discriminator*. The generator generates fake data samples with the goal of making them as indistinguishable from real data samples. While the discriminator's goal is to figure out if a given sample is real or fake. Both components are working against each other (adversarially) and their competition captures the implicit probability distribution more clearly. \n",
        "\n",
        "A *qGAN* is when either of the two components of this algorithm is done on a quantum computer. In this instance [3], the qGAN refers to a quantum generator that can create a quantum state which loyally represents the data’s underlying probability distribution.\n",
        "\n"
      ],
      "metadata": {
        "id": "mTRmk5PbrBtz"
      }
    },
    {
      "cell_type": "markdown",
      "source": [
        "\n",
        "\n",
        "---\n",
        "\n"
      ],
      "metadata": {
        "id": "ZI0LqByv7HzW"
      }
    },
    {
      "cell_type": "markdown",
      "source": [
        "# Portfolio optimisation\n",
        "Portfolio optimisation refers to the allocation of resources across various asset classes to acheive optimal returns with respect to the risk entailed with each investment option i.e. maximise returns while minimizing risk.\n",
        "\n",
        "The modern portfolio theory (MPT) is a practical method for selecting investments in order to maximize their overall returns within an acceptable level of risk, a key feature of which is diversification. As such, it is described by an objective function with various parameters to be optimised, given a dataset from which the relationship between variables must be extracted. \n",
        "\n",
        "Portfolio optimisation is a ripe problem for quantum computing to provide an advantage for as classical computing has reached its limitations. It would benefit a great deal from quantum computers in terms of accuracy, even if efficiency may have to wait until further improvements in quantum hardware. \n",
        "\n",
        "The paper [5] gives promising results by framing MPT solution as a solution for a variational quantum eigensolver, where the Hamiltonian is replaced with the objective function relevant to the problem. The paper goes on to evaluate these results on various devices, including D-Wave's quantum annealer which provide the most constructive results."
      ],
      "metadata": {
        "id": "Km0Syzr121uL"
      }
    },
    {
      "cell_type": "markdown",
      "source": [
        "\n",
        "\n",
        "---\n",
        "\n"
      ],
      "metadata": {
        "id": "iSee5C0PvNfb"
      }
    },
    {
      "cell_type": "markdown",
      "source": [
        "# Evaluation of Generalizing capabilities\n",
        "The paper [1] aims to provide a well-defined framework with metrics to evaluate the capabilities of various distribution learning methods, both classical and quantum. They acheive this by building robust sample-based metrics to gauge the performance of different methods with consideration to the unique pitfalls of each method. \n",
        "\n"
      ],
      "metadata": {
        "id": "Wo1it8TA7Nxv"
      }
    },
    {
      "cell_type": "markdown",
      "source": [
        "\n",
        "\n",
        "---\n",
        "\n"
      ],
      "metadata": {
        "id": "kMjnnPqi7L0C"
      }
    },
    {
      "cell_type": "markdown",
      "source": [
        "# Data Pre-processing\n",
        "As stated in [1], portfolio optimisation requires a decision regarding asset allocation, whether to allocate resources to it or not. One way of encoded the data is by having every stock represented by a single qubit, the outcome of which will either be a 0 or 1, to indicate the decision. This instance will use 6 qubits and so the label for each row given is in the form of a bitstring consisting of 6 bits each, indicating which of the 6 assets must be allocated resources at a given time. The value of the bit is evaluated based on the value of the stock in the next progression."
      ],
      "metadata": {
        "id": "qgsPrn2BvO41"
      }
    },
    {
      "cell_type": "code",
      "source": [
        "pip install Nasdaq-Data-Link"
      ],
      "metadata": {
        "id": "F7g849NO_kNB"
      },
      "execution_count": null,
      "outputs": []
    },
    {
      "cell_type": "markdown",
      "source": [
        "I have obtained the dataset for this project using the online NASDAQ data link and will attach a file consisting of the processed dataset alongwith the project."
      ],
      "metadata": {
        "id": "RlS6fH7ykHbl"
      }
    },
    {
      "cell_type": "code",
      "source": [
        "import nasdaqdatalink\n",
        "\n",
        "nasdaqdatalink.ApiConfig.api_key = api_key\n",
        "\n",
        "MSFT_data = nasdaqdatalink.get(\"WIKI/MSFT\", rows = 3941)['Close']\n",
        "XOM_data = nasdaqdatalink.get(\"WIKI/XOM\", rows = 3941)['Close']\n",
        "GOLD_data = nasdaqdatalink.get(\"WIKI/GOLD\", rows = 3941)['Close']\n",
        "BAC_data = nasdaqdatalink.get(\"WIKI/BAC\", rows = 3941)['Close']\n",
        "DE_AGRI_data = nasdaqdatalink.get(\"WIKI/DE\", rows = 3941)['Close']\n",
        "BA_data = nasdaqdatalink.get(\"WIKI/BA\", rows = 3941)['Close']\n"
      ],
      "metadata": {
        "id": "PnRBufJH_uus"
      },
      "execution_count": 73,
      "outputs": []
    },
    {
      "cell_type": "code",
      "source": [
        "target = []\n",
        "for i in range(len(MSFT_data)-1):\n",
        "  bit_string = ''\n",
        "\n",
        "  if MSFT_data[i+1] - MSFT_data[i] > 0:\n",
        "    bit_string = bit_string + '1'\n",
        "  else:\n",
        "    bit_string = bit_string + '0'\n",
        "\n",
        "  if ((XOM_data[i+1] - XOM_data[i]) > 0):\n",
        "    bit_string = bit_string + '1'\n",
        "  else:\n",
        "    bit_string = bit_string + '0'\n",
        "\n",
        "  if ((GOLD_data[i+1] - GOLD_data[i]) > 0):\n",
        "    bit_string = bit_string + '1'\n",
        "  else:\n",
        "    bit_string = bit_string + '0'\n",
        "\n",
        "  if ((BAC_data[i+1] - BAC_data[i]) > 0):\n",
        "    bit_string = bit_string + '1'\n",
        "  else:\n",
        "    bit_string = bit_string + '0'\n",
        "\n",
        "  if ((DE_AGRI_data[i+1] - DE_AGRI_data[i]) > 0):\n",
        "    bit_string = bit_string + '1'\n",
        "  else:\n",
        "    bit_string = bit_string + '0'\n",
        "\n",
        "  if ((BA_data[i+1] - BA_data[i]) > 0):\n",
        "    bit_string = bit_string + '1'\n",
        "  else:\n",
        "    bit_string = bit_string + '0'\n",
        "\n",
        "  target.append(bit_string)\n",
        "\n",
        "df = pd.DataFrame(MSFT_data)\n",
        "df.insert(1,'XOM', XOM_data, True)\n",
        "df.insert(2,'GOLD', GOLD_data, True)\n",
        "df.insert(3,'BAC', BAC_data, True)\n",
        "df.insert(4,'DE_AGRI', DE_AGRI_data, True)\n",
        "df.insert(5,'BA', BA_data, True)\n",
        "df.drop(df.tail(1).index,inplace=True)\n",
        "df.insert(6,'Labels', target, True)\n",
        "print(df)\n",
        "df.to_csv(\"Nasdaq_data.csv\")"
      ],
      "metadata": {
        "colab": {
          "base_uri": "https://localhost:8080/"
        },
        "id": "xtkLKGq2OWiX",
        "outputId": "3a4bc6e5-d480-4de2-be03-e9facd81478d"
      },
      "execution_count": 72,
      "outputs": [
        {
          "output_type": "stream",
          "name": "stdout",
          "text": [
            "            Close    XOM   GOLD    BAC  DE_AGRI      BA  Labels\n",
            "Date                                                           \n",
            "2002-07-31  47.98  36.76  12.80  66.50    42.02   41.52  001000\n",
            "2002-08-01  45.75  33.65  12.90  64.80    41.65   40.63  001000\n",
            "2002-08-02  44.41  33.61  13.00  63.51    39.95   39.85  001000\n",
            "2002-08-05  43.99  32.50  13.05  62.06    39.81   38.61  111111\n",
            "2002-08-06  45.67  33.40  13.08  63.73    40.90   39.41  111111\n",
            "...           ...    ...    ...    ...      ...     ...     ...\n",
            "2018-03-20  93.13  73.99  82.26  31.98   159.99  337.63  011000\n",
            "2018-03-21  92.48  75.04  84.00  31.87   158.05  337.10  000000\n",
            "2018-03-22  89.79  73.50  80.52  30.55   151.58  319.61  001001\n",
            "2018-03-23  87.18  72.89  83.92  29.17   148.00  321.00  111111\n",
            "2018-03-26  93.78  74.00  85.22  30.44   153.34  328.97  000000\n",
            "\n",
            "[3940 rows x 7 columns]\n"
          ]
        }
      ]
    },
    {
      "cell_type": "markdown",
      "source": [
        "# Further Work\n",
        "The given data encoding can be used to implement qGANs given in [4]. There are also other prospective uses for qGANs in terms of generating synthetic data. \n",
        "\n",
        "Other distribution learning methods such as Quantum Boltzmann Machine and Quantum Circuit Born Machine (QCBM) have shown to compete very well with classical methods [6]. Another interesting facet to these is the performance of the generative model being correlated to the entanglement capacity of the system, which emphasises the integral role the quantum circuit plays in bringing about this advantage. \n"
      ],
      "metadata": {
        "id": "6LNNMGoi0lKZ"
      }
    },
    {
      "cell_type": "markdown",
      "source": [
        "# References\n",
        "1. K. Gili, M. Mauri, A. Perdomo-Ortiz, *Evaluating Generalization in Classical and Quantum Generative Models* (26 May 2022), arXiv:2201.08770v2.\n",
        "2. Multiverse Computing: Optimizing Financial Portfolios with Quantum Computing - https://www.dwavesys.com/media/5qahck2o/multiverse_case_study_v8.pdf\n",
        "3. Zoufal, C., Lucchi, A. & Woerner, S. Quantum Generative Adversarial Networks for learning and loading random distributions. npj Quantum Inf 5, 103 (2019). https://doi.org/10.1038/s41534-019-0223-2\n",
        "4. https://pennylane.ai/qml/demos/tutorial_quantum_gans.html\n",
        "5. S. Mugel, C. Kuchkovsky, E. Sanchez, S. Fernandez-Lorenzo, J. Luis-Hita, E. Lizaso, and R. Orus, '*Dynamic Portfolio Optimization with Real Datasets Using Quantum Processors and Quantum-Inspired Tensor Networks*' (2021), arXiv:2007.00017v2.\n",
        "6. B. Coyle, M. Henderson, J. Chan Jin Le, N. Kumar, M. Paini, E. Kashefi, *Quantum versus Classical Generative Modelling in Finance* (2020), arXiv:2008.00691v1."
      ],
      "metadata": {
        "id": "Mz-MO4FaPdO0"
      }
    }
  ]
}